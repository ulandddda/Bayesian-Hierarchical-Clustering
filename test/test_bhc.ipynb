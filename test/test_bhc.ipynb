{
 "cells": [
  {
   "cell_type": "code",
   "execution_count": 1,
   "metadata": {},
   "outputs": [],
   "source": [
    "from bhclust.pytest_wrapper import *"
   ]
  },
  {
   "cell_type": "markdown",
   "metadata": {},
   "source": [
    "## Profiling and timing"
   ]
  },
  {
   "cell_type": "code",
   "execution_count": 2,
   "metadata": {},
   "outputs": [],
   "source": [
    "np.random.seed(8)\n",
    "data = generate_data()"
   ]
  },
  {
   "cell_type": "code",
   "execution_count": 3,
   "metadata": {},
   "outputs": [
    {
     "name": "stdout",
     "output_type": "stream",
     "text": [
      " \n",
      "*** Profile stats marshalled to file 'bhc.prof'. \n",
      "Mon Apr 29 13:04:01 2019    bhc.prof\n",
      "\n",
      "         4864099 function calls in 11.284 seconds\n",
      "\n",
      "   Ordered by: internal time, cumulative time\n",
      "   List reduced from 88 to 5 due to restriction <5>\n",
      "\n",
      "   ncalls  tottime  percall  cumtime  percall filename:lineno(function)\n",
      "    72040    4.248    0.000    9.326    0.000 C:\\Users\\DiaoUU\\Anaconda3\\lib\\site-packages\\bhclust-1.0-py3.6-win-amd64.egg\\bhclust\\Bayesian_hclust.py:125(log_marginal_probability)\n",
      "   144080    1.187    0.000    2.717    0.000 C:\\Users\\DiaoUU\\Anaconda3\\lib\\site-packages\\numpy\\linalg\\linalg.py:1953(slogdet)\n",
      "    35990    1.011    0.000    6.439    0.000 C:\\Users\\DiaoUU\\Anaconda3\\lib\\site-packages\\bhclust-1.0-py3.6-win-amd64.egg\\bhclust\\Bayesian_hclust.py:259(merge)\n",
      "   216297    0.864    0.000    0.864    0.000 {method 'reduce' of 'numpy.ufunc' objects}\n",
      "   288160    0.533    0.000    0.533    0.000 {method 'astype' of 'numpy.generic' objects}\n",
      "\n",
      "\n"
     ]
    },
    {
     "name": "stderr",
     "output_type": "stream",
     "text": [
      "C:\\Users\\DiaoUU\\Anaconda3\\lib\\site-packages\\bhclust-1.0-py3.6-win-amd64.egg\\bhclust\\Bayesian_hclust.py:290: RuntimeWarning: divide by zero encountered in log\n",
      "  np.log(-np.expm1(log_pik)) + log_lkh_left + log_lkh_right)\n"
     ]
    }
   ],
   "source": [
    "%prun -q -D bhc.prof fit_bhc(data)\n",
    "import pstats\n",
    "p = pstats.Stats('bhc.prof')\n",
    "p.sort_stats('time', 'cumulative').print_stats(5)\n",
    "pass"
   ]
  },
  {
   "cell_type": "code",
   "execution_count": 4,
   "metadata": {},
   "outputs": [
    {
     "name": "stderr",
     "output_type": "stream",
     "text": [
      "C:\\Users\\DiaoUU\\Anaconda3\\lib\\site-packages\\bhclust-1.0-py3.6-win-amd64.egg\\bhclust\\Bayesian_hclust.py:290: RuntimeWarning: divide by zero encountered in log\n",
      "  np.log(-np.expm1(log_pik)) + log_lkh_left + log_lkh_right)\n"
     ]
    },
    {
     "name": "stdout",
     "output_type": "stream",
     "text": [
      "9.46 s ± 720 ms per loop (mean ± std. dev. of 7 runs, 1 loop each)\n"
     ]
    }
   ],
   "source": [
    "%timeit fit_bhc(data)"
   ]
  },
  {
   "cell_type": "code",
   "execution_count": 5,
   "metadata": {},
   "outputs": [
    {
     "name": "stderr",
     "output_type": "stream",
     "text": [
      "C:\\Users\\DiaoUU\\Anaconda3\\lib\\site-packages\\bhclust-1.0-py3.6-win-amd64.egg\\bhclust\\Bayesian_hclust_cpp.py:180: RuntimeWarning: divide by zero encountered in log\n",
      "  np.log(-np.expm1(log_pik)) + log_lkh_left + log_lkh_right)\n"
     ]
    },
    {
     "name": "stdout",
     "output_type": "stream",
     "text": [
      "1.94 s ± 300 ms per loop (mean ± std. dev. of 7 runs, 1 loop each)\n"
     ]
    }
   ],
   "source": [
    "%timeit fit_bhc_cpp(data)"
   ]
  },
  {
   "cell_type": "code",
   "execution_count": 6,
   "metadata": {},
   "outputs": [
    {
     "name": "stderr",
     "output_type": "stream",
     "text": [
      "C:\\Users\\DiaoUU\\Anaconda3\\lib\\site-packages\\bhclust-1.0-py3.6-win-amd64.egg\\bhclust\\Bayesian_hclust_cpp.py:180: RuntimeWarning: divide by zero encountered in log\n",
      "  np.log(-np.expm1(log_pik)) + log_lkh_left + log_lkh_right)\n"
     ]
    },
    {
     "name": "stdout",
     "output_type": "stream",
     "text": [
      "269 ms ± 9.78 ms per loop (mean ± std. dev. of 7 runs, 1 loop each)\n"
     ]
    }
   ],
   "source": [
    "%timeit fit_bhc_cpp_fast(data)"
   ]
  },
  {
   "cell_type": "code",
   "execution_count": 7,
   "metadata": {},
   "outputs": [
    {
     "name": "stderr",
     "output_type": "stream",
     "text": [
      "C:\\Users\\DiaoUU\\Anaconda3\\lib\\site-packages\\bhclust-1.0-py3.6-win-amd64.egg\\bhclust\\Bayesian_hclust.py:290: RuntimeWarning: divide by zero encountered in log\n",
      "  np.log(-np.expm1(log_pik)) + log_lkh_left + log_lkh_right)\n"
     ]
    },
    {
     "name": "stdout",
     "output_type": "stream",
     "text": [
      "1.24 s ± 101 ms per loop (mean ± std. dev. of 7 runs, 1 loop each)\n"
     ]
    }
   ],
   "source": [
    "%timeit fit_bhc_fast(data)"
   ]
  },
  {
   "cell_type": "markdown",
   "metadata": {},
   "source": [
    "### Simulated Data"
   ]
  },
  {
   "cell_type": "code",
   "execution_count": 8,
   "metadata": {},
   "outputs": [
    {
     "data": {
      "image/png": "[encoded data removed]",
      "text/plain": [
       "<Figure size 432x288 with 1 Axes>"
      ]
     },
     "metadata": {},
     "output_type": "display_data"
    }
   ],
   "source": [
    "np.random.seed(8)\n",
    "simu_data = generate_data()\n",
    "plt.scatter(simu_data[:, 0], simu_data[:, 1])\n",
    "pass"
   ]
  },
  {
   "cell_type": "code",
   "execution_count": 9,
   "metadata": {},
   "outputs": [
    {
     "name": "stderr",
     "output_type": "stream",
     "text": [
      "C:\\Users\\DiaoUU\\Anaconda3\\lib\\site-packages\\bhclust-1.0-py3.6-win-amd64.egg\\bhclust\\Bayesian_hclust_cpp.py:180: RuntimeWarning: divide by zero encountered in log\n",
      "  np.log(-np.expm1(log_pik)) + log_lkh_left + log_lkh_right)\n"
     ]
    }
   ],
   "source": [
    "Z, rk, clusters_ = fit_bhc_cpp(simu_data, cutoff=3)"
   ]
  },
  {
   "cell_type": "code",
   "execution_count": 10,
   "metadata": {},
   "outputs": [
    {
     "data": {
      "image/png": "[encoded data removed]",
      "text/plain": [
       "<Figure size 864x432 with 1 Axes>"
      ]
     },
     "metadata": {},
     "output_type": "display_data"
    }
   ],
   "source": [
    "draw_dendrogram(Z, thres=0.5)"
   ]
  },
  {
   "cell_type": "code",
   "execution_count": 11,
   "metadata": {},
   "outputs": [
    {
     "data": {
      "image/png": "[encoded data removed]",
      "text/plain": [
       "<Figure size 432x288 with 1 Axes>"
      ]
     },
     "metadata": {},
     "output_type": "display_data"
    }
   ],
   "source": [
    "draw_scatter(clusters_)"
   ]
  },
  {
   "cell_type": "code",
   "execution_count": 12,
   "metadata": {},
   "outputs": [
    {
     "data": {
      "image/png": "[encoded data removed]",
      "text/plain": [
       "<Figure size 432x288 with 1 Axes>"
      ]
     },
     "metadata": {},
     "output_type": "display_data"
    }
   ],
   "source": [
    "simu_data = generate_data(num_per_cluster = [10, 10, 10, 10, 10], \n",
    "                  center = [[-5., -1.], [0., 2.], [5., 3.], [-3, 5], [5, -3]])\n",
    "plt.scatter(simu_data[:, 0], simu_data[:, 1])\n",
    "pass"
   ]
  },
  {
   "cell_type": "code",
   "execution_count": 13,
   "metadata": {},
   "outputs": [
    {
     "name": "stderr",
     "output_type": "stream",
     "text": [
      "C:\\Users\\DiaoUU\\Anaconda3\\lib\\site-packages\\bhclust-1.0-py3.6-win-amd64.egg\\bhclust\\Bayesian_hclust_cpp.py:180: RuntimeWarning: divide by zero encountered in log\n",
      "  np.log(-np.expm1(log_pik)) + log_lkh_left + log_lkh_right)\n"
     ]
    }
   ],
   "source": [
    "#Z, rk, clusters_ = fit_bhc_cpp_fast(simu_data, cutoff=5)\n",
    "Z, rk, clusters_ = fit_bhc_cpp_fast(simu_data, cutoff=5)"
   ]
  },
  {
   "cell_type": "code",
   "execution_count": 14,
   "metadata": {},
   "outputs": [
    {
     "data": {
      "image/png": "[encoded data removed]",
      "text/plain": [
       "<Figure size 864x432 with 1 Axes>"
      ]
     },
     "metadata": {},
     "output_type": "display_data"
    }
   ],
   "source": [
    "draw_dendrogram(Z, thres=0.2)"
   ]
  },
  {
   "cell_type": "code",
   "execution_count": 15,
   "metadata": {},
   "outputs": [
    {
     "data": {
      "image/png": "[encoded data removed]",
      "text/plain": [
       "<Figure size 432x288 with 1 Axes>"
      ]
     },
     "metadata": {},
     "output_type": "display_data"
    }
   ],
   "source": [
    "draw_scatter(clusters_)"
   ]
  },
  {
   "cell_type": "markdown",
   "metadata": {},
   "source": [
    "### Real World Data"
   ]
  },
  {
   "cell_type": "code",
   "execution_count": 16,
   "metadata": {},
   "outputs": [],
   "source": [
    "glass_sample, glass_sample_feature = process_data('../data/glass.data')"
   ]
  },
  {
   "cell_type": "code",
   "execution_count": 17,
   "metadata": {},
   "outputs": [],
   "source": [
    "p = glass_sample_feature.shape[1]\n",
    "m = np.zeros(p)\n",
    "S = np.eye(p)\n",
    "r = 1\n",
    "v = p + 1\n",
    "Z_glass, rk_glass, cluster_glass = fit_bhc_fast(glass_sample_feature.values, 2, m, S, r, v)"
   ]
  },
  {
   "cell_type": "code",
   "execution_count": 18,
   "metadata": {},
   "outputs": [
    {
     "data": {
      "image/png": "[encoded data removed]",
      "text/plain": [
       "<Figure size 432x288 with 1 Axes>"
      ]
     },
     "metadata": {},
     "output_type": "display_data"
    }
   ],
   "source": [
    "dendrogram(Z_glass)\n",
    "pass"
   ]
  },
  {
   "cell_type": "code",
   "execution_count": 19,
   "metadata": {},
   "outputs": [
    {
     "data": {
      "text/plain": [
       "0.95"
      ]
     },
     "execution_count": 19,
     "metadata": {},
     "output_type": "execute_result"
    }
   ],
   "source": [
    "calculate_purity(cluster_glass, glass_sample.values)"
   ]
  },
  {
   "cell_type": "code",
   "execution_count": 20,
   "metadata": {},
   "outputs": [
    {
     "name": "stdout",
     "output_type": "stream",
     "text": [
      "[0 0 0 0 0 0 0 0 0 0 1 1 1 0 1 1 1 1 1 1]\n"
     ]
    },
    {
     "data": {
      "image/png": "[encoded data removed]",
      "text/plain": [
       "<Figure size 432x288 with 1 Axes>"
      ]
     },
     "metadata": {},
     "output_type": "display_data"
    }
   ],
   "source": [
    "from scipy.cluster.hierarchy import linkage\n",
    "from scipy.spatial.distance import pdist\n",
    "y = pdist(glass_sample_feature)\n",
    "hclust_Z = linkage(y, 'ward')\n",
    "\n",
    "from sklearn.cluster import AgglomerativeClustering\n",
    "hclust = AgglomerativeClustering(n_clusters=2, linkage='ward').fit(glass_sample_feature)\n",
    "\n",
    "print(hclust.labels_)\n",
    "\n",
    "dendrogram(hclust_Z)\n",
    "pass"
   ]
  },
  {
   "cell_type": "code",
   "execution_count": 21,
   "metadata": {},
   "outputs": [],
   "source": [
    "spam_sample, _ = process_data('../data/spambase.data', n_samples=[50,50], labels=[0,1])\n",
    "spam_sample_binary = (spam_sample == 0)\n",
    "spam_sample_binary = spam_sample_binary.astype(float)\n",
    "spam_sample_binary_feature = spam_sample_binary.iloc[:, :-1]"
   ]
  },
  {
   "cell_type": "code",
   "execution_count": 22,
   "metadata": {},
   "outputs": [
    {
     "name": "stderr",
     "output_type": "stream",
     "text": [
      "C:\\Users\\DiaoUU\\Anaconda3\\lib\\site-packages\\bhclust-1.0-py3.6-win-amd64.egg\\bhclust\\Bayesian_hclust.py:290: RuntimeWarning: divide by zero encountered in log\n",
      "  np.log(-np.expm1(log_pik)) + log_lkh_left + log_lkh_right)\n"
     ]
    }
   ],
   "source": [
    "alpha = 0.005\n",
    "beta = 0.1\n",
    "Z_spam, rk_spam, cluster_spam = fit_bhc_benoulli(spam_sample_binary_feature.values, 2, alpha, beta, alpha_=0.001)"
   ]
  },
  {
   "cell_type": "code",
   "execution_count": 23,
   "metadata": {},
   "outputs": [
    {
     "data": {
      "image/png": "[encoded data removed]",
      "text/plain": [
       "<Figure size 864x432 with 1 Axes>"
      ]
     },
     "metadata": {},
     "output_type": "display_data"
    }
   ],
   "source": [
    "draw_dendrogram(Z_spam, thres=0.6)"
   ]
  },
  {
   "cell_type": "code",
   "execution_count": 24,
   "metadata": {},
   "outputs": [
    {
     "data": {
      "text/plain": [
       "0.86"
      ]
     },
     "execution_count": 24,
     "metadata": {},
     "output_type": "execute_result"
    }
   ],
   "source": [
    "calculate_purity(cluster_spam, spam_sample_binary.values)"
   ]
  },
  {
   "cell_type": "code",
   "execution_count": 25,
   "metadata": {},
   "outputs": [
    {
     "name": "stdout",
     "output_type": "stream",
     "text": [
      "[0 1 1 0 0 1 1 1 0 1 1 1 1 1 1 1 0 1 0 1 1 1 1 0 0 0 0 1 1 0 1 1 0 0 1 1 1\n",
      " 1 0 1 1 0 1 0 1 1 1 1 1 1 1 0 0 0 1 0 0 1 0 0 1 0 0 1 0 1 1 1 0 0 0 0 1 0\n",
      " 0 0 1 0 1 0 0 0 0 1 0 1 0 0 1 0 0 0 1 1 0 0 0 1 1 0]\n"
     ]
    },
    {
     "data": {
      "image/png": "[encoded data removed]",
      "text/plain": [
       "<Figure size 864x360 with 1 Axes>"
      ]
     },
     "metadata": {},
     "output_type": "display_data"
    }
   ],
   "source": [
    "from scipy.cluster.hierarchy import linkage\n",
    "from scipy.spatial.distance import pdist\n",
    "y = pdist(spam_sample_binary_feature)\n",
    "hclust_Z = linkage(y, 'ward')\n",
    "\n",
    "from sklearn.cluster import AgglomerativeClustering\n",
    "hclust = AgglomerativeClustering(n_clusters=2, linkage='ward').fit(spam_sample_binary_feature)\n",
    "\n",
    "print(hclust.labels_)\n",
    "plt.figure(figsize=(12,5))\n",
    "\n",
    "dendrogram(hclust_Z)\n",
    "pass"
   ]
  }
 ],
 "metadata": {
  "kernelspec": {
   "display_name": "Python 3",
   "language": "python",
   "name": "python3"
  },
  "language_info": {
   "codemirror_mode": {
    "name": "ipython",
    "version": 3
   },
   "file_extension": ".py",
   "mimetype": "text/x-python",
   "name": "python",
   "nbconvert_exporter": "python",
   "pygments_lexer": "ipython3",
   "version": "3.6.5"
  }
 },
 "nbformat": 4,
 "nbformat_minor": 2
}
